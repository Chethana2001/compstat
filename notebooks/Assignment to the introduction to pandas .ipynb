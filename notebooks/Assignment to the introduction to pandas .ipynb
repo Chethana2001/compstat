{
 "cells": [
  {
   "cell_type": "markdown",
   "metadata": {},
   "source": [
    "# performs basic operations using pandas\n",
    "\n",
    "Task: \n",
    "\n",
    "1. First load the dataset from the repo\n",
    "2. Look at the shape of the data\n",
    "3. Check if there exist any null entries\n",
    "4. Look the data types of each featurs\n",
    "5. Look at the unique elements of horsepower to look for discrepancies use `data.horsepower.unique()`\n",
    "6. When we print out all the unique values in horsepower, we find that there is `'?'` which was used as a placeholder for missing    values. Remove these entries.\n",
    "7. change the data type of horsepower to float\n",
    "8. Describe the data\n",
    "9. Describe only mpg `The minimum value is 9 and maximum is 46, but on average it is 23.44 with a variation of 7.8`\n",
    "10. Plot and verify this result\n",
    "\n"
   ]
  },
  {
   "cell_type": "code",
   "execution_count": 1,
   "metadata": {},
   "outputs": [],
   "source": [
    "import pandas as pd\n",
    "import matplotlib.pyplot as plt\n"
   ]
  }
 ],
 "metadata": {
  "kernelspec": {
   "display_name": "Python 3",
   "language": "python",
   "name": "python3"
  },
  "language_info": {
   "codemirror_mode": {
    "name": "ipython",
    "version": 3
   },
   "file_extension": ".py",
   "mimetype": "text/x-python",
   "name": "python",
   "nbconvert_exporter": "python",
   "pygments_lexer": "ipython3",
   "version": "3.8.3"
  }
 },
 "nbformat": 4,
 "nbformat_minor": 4
}
